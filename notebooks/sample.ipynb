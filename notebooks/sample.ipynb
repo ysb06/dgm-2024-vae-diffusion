{
  "cells": [
    {
      "cell_type": "markdown",
      "metadata": {
        "id": "view-in-github",
        "colab_type": "text"
      },
      "source": [
        "<a href=\"https://colab.research.google.com/github/ysb06/dgm-2024-vae-diffusion/blob/main/notebooks/sample.ipynb\" target=\"_parent\"><img src=\"https://colab.research.google.com/assets/colab-badge.svg\" alt=\"Open In Colab\"/></a>"
      ]
    },
    {
      "cell_type": "markdown",
      "metadata": {
        "id": "-bWKkEniZZCR"
      },
      "source": [
        "# DiffuseVAE in Google Colab\n",
        "\n",
        "Google Colab에서 실행하는 예시"
      ]
    },
    {
      "cell_type": "markdown",
      "metadata": {
        "id": "hd1qE5a8ZZCS"
      },
      "source": [
        "## Git Clone\n",
        "\n",
        "Github에서 Personal Access Token 발급 후 Clone을 수행합니다. Token은 재사용이 가능하므로 안전한 곳에 저장해 두고 사용하면 됩니다.\n",
        "\n",
        "### Personal Access Token 발급 방법\n",
        "\n",
        "1. Github의 Settings - Developer settings (맨아래) 클릭\n",
        "2. Personal access token 선택\n",
        "3. Fine-grained tokens 또는 Tokens (classic) 선택\n",
        "4. 이름, 만료일, 권한 등 설정 후 Generate token\n",
        "    - Fine-grained tokens의 경우 최소 권한은 Contents만 Read and write로 선택\n",
        "    - Classic의 경우 최소 권한은 repo만 선택\n",
        "5. 키 복사 후 사용"
      ]
    },
    {
      "cell_type": "code",
      "execution_count": null,
      "metadata": {
        "id": "nBU2TBTaZZCT"
      },
      "outputs": [],
      "source": [
        "!git clone https://(발급 받은 Personal Access Token)@github.com/ysb06/dgm-2024-vae-diffusion.git"
      ]
    },
    {
      "cell_type": "markdown",
      "metadata": {
        "id": "6q9B0PvnZZCU"
      },
      "source": [
        "## 프로젝트 패키지 설치\n",
        "\n",
        "Google Colab에서 아래 실행 후, 런타임 세션을 재시작한다. (런타임 해제 및 삭제하면 안 됨)"
      ]
    },
    {
      "cell_type": "code",
      "execution_count": null,
      "metadata": {
        "id": "yHYuDYGOZZCU"
      },
      "outputs": [],
      "source": [
        "%pip install -e dgm-2024-vae-diffusion"
      ]
    },
    {
      "cell_type": "markdown",
      "metadata": {
        "id": "bXaaATCeZZCU"
      },
      "source": [
        "## 예시: Baseline 학습 실행"
      ]
    },
    {
      "cell_type": "markdown",
      "metadata": {
        "id": "gssLmyR-ZZCU"
      },
      "source": [
        "### 하이퍼파라미터 로드"
      ]
    },
    {
      "cell_type": "code",
      "execution_count": null,
      "metadata": {
        "id": "UmtiZ5zxZZCV"
      },
      "outputs": [],
      "source": [
        "from hydra import initialize, compose\n",
        "from omegaconf import DictConfig\n",
        "\n",
        "def load_config() -> DictConfig:\n",
        "    with initialize(config_path=\"dgm-2024-vae-diffusion/src/baseline/configs\", version_base=None):\n",
        "        config = compose(config_name=\"config\")\n",
        "    return config\n",
        "\n",
        "config = load_config()\n",
        "print(config)"
      ]
    },
    {
      "cell_type": "markdown",
      "metadata": {
        "id": "yDlM0CUTZZCV"
      },
      "source": [
        "### Config 수정"
      ]
    },
    {
      "cell_type": "code",
      "execution_count": null,
      "metadata": {
        "id": "FY1ze6nWZZCW"
      },
      "outputs": [],
      "source": [
        "# VSCode에서 실행하는 것과 다르게 Notebook파일이 있는 폴더가 현재 폴더 위치\n",
        "config.dataset.ddpm.data.root = \"./dgm-2024-vae-diffusion/datasets\"\n",
        "config.dataset.ddpm.training.vae_chkpt_path = \"./dgm-2024-vae-diffusion/outputs/vae.pt\"\n",
        "config.dataset.ddpm.training.results_dir = \"./dgm-2024-vae-diffusion/outputs\"\n",
        "config.dataset.vae.data.root = \"./dgm-2024-vae-diffusion/datasets\"\n",
        "config.dataset.vae.training.results_dir = \"./dgm-2024-vae-diffusion/outputs\"\n",
        "\n",
        "config"
      ]
    },
    {
      "cell_type": "code",
      "execution_count": null,
      "metadata": {
        "id": "PVSrvOJ7ZZCW"
      },
      "outputs": [],
      "source": [
        "import baseline.train_ae as vae_trainer\n",
        "import baseline.train_ddpm as ddpm_trainer\n",
        "\n",
        "vae_trainer.train(config)\n",
        "# ddpm_trainer.train(config)"
      ]
    }
  ],
  "metadata": {
    "kernelspec": {
      "display_name": ".venv",
      "language": "python",
      "name": "python3"
    },
    "language_info": {
      "codemirror_mode": {
        "name": "ipython",
        "version": 3
      },
      "file_extension": ".py",
      "mimetype": "text/x-python",
      "name": "python",
      "nbconvert_exporter": "python",
      "pygments_lexer": "ipython3",
      "version": "3.11.9"
    },
    "colab": {
      "provenance": [],
      "include_colab_link": true
    }
  },
  "nbformat": 4,
  "nbformat_minor": 0
}