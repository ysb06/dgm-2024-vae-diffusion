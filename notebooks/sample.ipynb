{
 "cells": [
  {
   "cell_type": "markdown",
   "metadata": {},
   "source": [
    "# DiffuseVAE in Google Colab\n",
    "\n",
    "Google Colab에서 실행하는 예시"
   ]
  },
  {
   "cell_type": "markdown",
   "metadata": {},
   "source": [
    "## Git Clone\n",
    "\n",
    "Github에서 Personal Access Token 발급 후 Clone을 수행합니다. Token은 재사용이 가능하므로 안전한 곳에 저장해 두고 사용하면 됩니다.\n",
    "\n",
    "### Personal Access Token 발급 방법\n",
    "\n",
    "1. Github의 Settings - Developer settings (맨아래) 클릭\n",
    "2. Personal access token 선택\n",
    "3. Fine-grained tokens 또는 Tokens (classic) 선택\n",
    "4. 이름, 만료일, 권한 등 설정 후 Generate token\n",
    "    - Fine-grained tokens의 경우 최소 권한은 Contents만 Read and write로 선택\n",
    "    - Classic의 경우 최소 권한은 repo만 선택\n",
    "5. 키 복사 후 사용"
   ]
  },
  {
   "cell_type": "code",
   "execution_count": null,
   "metadata": {},
   "outputs": [],
   "source": [
    "!git clone https://(발급 받은 Personal Access Token)@github.com/ysb06/dgm-2024-vae-diffusion.git"
   ]
  },
  {
   "cell_type": "markdown",
   "metadata": {},
   "source": [
    "## 프로젝트 패키지 설치"
   ]
  },
  {
   "cell_type": "code",
   "execution_count": null,
   "metadata": {},
   "outputs": [],
   "source": [
    "%pip install -e .."
   ]
  },
  {
   "cell_type": "markdown",
   "metadata": {},
   "source": [
    "## 예시: Baseline 학습 실행"
   ]
  },
  {
   "cell_type": "markdown",
   "metadata": {},
   "source": [
    "### 하이퍼파라미터 로드"
   ]
  },
  {
   "cell_type": "code",
   "execution_count": 3,
   "metadata": {},
   "outputs": [
    {
     "name": "stdout",
     "output_type": "stream",
     "text": [
      "{'dataset': {'ddpm': {'data': {'root': './datasets', 'name': 'cifar10', 'image_size': 32, 'hflip': True, 'n_channels': 3, 'norm': True}, 'model': {'dim': 128, 'attn_resolutions': '16,', 'n_residual': 2, 'dim_mults': '1,2,2,2', 'dropout': 0.3, 'n_heads': 8, 'beta1': 0.0001, 'beta2': 0.02, 'n_timesteps': 1000}, 'training': {'seed': 0, 'fp16': False, 'use_ema': True, 'z_cond': False, 'z_dim': 512, 'type': 'form1', 'ema_decay': 0.9999, 'batch_size': 32, 'epochs': 5000, 'log_step': 1, 'device': 'gpu:0', 'chkpt_interval': 1, 'optimizer': 'Adam', 'lr': 0.0002, 'restore_path': None, 'vae_chkpt_path': './outputs/vae.pt', 'results_dir': './outputs', 'workers': 2, 'grad_clip': 1.0, 'n_anneal_steps': 5000, 'loss': 'l2', 'chkpt_prefix': '', 'cfd_rate': 0.0}}, 'vae': {'data': {'root': './datasets', 'name': 'cifar10', 'image_size': 32, 'n_channels': 3, 'hflip': False}, 'model': {'enc_block_config': '32x7,32d2,32t16,16x4,16d2,16t8,8x4,8d2,8t4,4x3,4d4,4t1,1x3', 'enc_channel_config': '32:64,16:128,8:256,4:256,1:512', 'dec_block_config': '1x1,1u4,1t4,4x2,4u2,4t8,8x3,8u2,8t16,16x7,16u2,16t32,32x15', 'dec_channel_config': '32:64,16:128,8:256,4:256,1:512'}, 'training': {'seed': 0, 'fp16': False, 'batch_size': 128, 'epochs': 1000, 'log_step': 1, 'device': 'gpu:0', 'chkpt_interval': 1, 'optimizer': 'Adam', 'lr': 0.0001, 'restore_path': '', 'results_dir': './outputs/', 'workers': 2, 'chkpt_prefix': '', 'alpha': 1.0}}}}\n"
     ]
    }
   ],
   "source": [
    "from hydra import initialize, compose\n",
    "from omegaconf import DictConfig\n",
    "\n",
    "def load_config() -> DictConfig:\n",
    "    with initialize(config_path=\"../src/baseline/configs\", version_base=None):\n",
    "        config = compose(config_name=\"config\")\n",
    "    return config\n",
    "\n",
    "config = load_config()\n",
    "print(config)"
   ]
  },
  {
   "cell_type": "markdown",
   "metadata": {},
   "source": [
    "### Config 수정"
   ]
  },
  {
   "cell_type": "code",
   "execution_count": 8,
   "metadata": {},
   "outputs": [
    {
     "data": {
      "text/plain": [
       "{'dataset': {'ddpm': {'data': {'root': '../datasets', 'name': 'cifar10', 'image_size': 32, 'hflip': True, 'n_channels': 3, 'norm': True}, 'model': {'dim': 128, 'attn_resolutions': '16,', 'n_residual': 2, 'dim_mults': '1,2,2,2', 'dropout': 0.3, 'n_heads': 8, 'beta1': 0.0001, 'beta2': 0.02, 'n_timesteps': 1000}, 'training': {'seed': 0, 'fp16': False, 'use_ema': True, 'z_cond': False, 'z_dim': 512, 'type': 'form1', 'ema_decay': 0.9999, 'batch_size': 32, 'epochs': 5000, 'log_step': 1, 'device': 'gpu:0', 'chkpt_interval': 1, 'optimizer': 'Adam', 'lr': 0.0002, 'restore_path': None, 'vae_chkpt_path': '../outputs/vae.pt', 'results_dir': '../outputs', 'workers': 2, 'grad_clip': 1.0, 'n_anneal_steps': 5000, 'loss': 'l2', 'chkpt_prefix': '', 'cfd_rate': 0.0}}, 'vae': {'data': {'root': '../datasets', 'name': 'cifar10', 'image_size': 32, 'n_channels': 3, 'hflip': False}, 'model': {'enc_block_config': '32x7,32d2,32t16,16x4,16d2,16t8,8x4,8d2,8t4,4x3,4d4,4t1,1x3', 'enc_channel_config': '32:64,16:128,8:256,4:256,1:512', 'dec_block_config': '1x1,1u4,1t4,4x2,4u2,4t8,8x3,8u2,8t16,16x7,16u2,16t32,32x15', 'dec_channel_config': '32:64,16:128,8:256,4:256,1:512'}, 'training': {'seed': 0, 'fp16': False, 'batch_size': 128, 'epochs': 1000, 'log_step': 1, 'device': 'gpu:0', 'chkpt_interval': 1, 'optimizer': 'Adam', 'lr': 0.0001, 'restore_path': '', 'results_dir': '../outputs', 'workers': 2, 'chkpt_prefix': '', 'alpha': 1.0}}}}"
      ]
     },
     "execution_count": 8,
     "metadata": {},
     "output_type": "execute_result"
    }
   ],
   "source": [
    "# VSCode에서 실행하는 것과 다르게 Notebook파일이 있는 폴더가 현재 폴더 위치\n",
    "config.dataset.ddpm.data.root = \"../datasets\"\n",
    "config.dataset.ddpm.training.vae_chkpt_path = \"../outputs/vae.pt\"\n",
    "config.dataset.ddpm.training.results_dir = \"../outputs\"\n",
    "config.dataset.vae.data.root = \"../datasets\"\n",
    "config.dataset.vae.training.results_dir = \"../outputs\"\n",
    "\n",
    "config"
   ]
  },
  {
   "cell_type": "code",
   "execution_count": null,
   "metadata": {},
   "outputs": [],
   "source": [
    "import baseline.train_ae as vae_trainer\n",
    "import baseline.train_ddpm as ddpm_trainer\n",
    "\n",
    "vae_trainer.train(config)\n",
    "ddpm_trainer.train(config)"
   ]
  }
 ],
 "metadata": {
  "kernelspec": {
   "display_name": ".venv",
   "language": "python",
   "name": "python3"
  },
  "language_info": {
   "codemirror_mode": {
    "name": "ipython",
    "version": 3
   },
   "file_extension": ".py",
   "mimetype": "text/x-python",
   "name": "python",
   "nbconvert_exporter": "python",
   "pygments_lexer": "ipython3",
   "version": "3.11.9"
  }
 },
 "nbformat": 4,
 "nbformat_minor": 2
}
